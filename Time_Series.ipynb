{
  "nbformat": 4,
  "nbformat_minor": 0,
  "metadata": {
    "colab": {
      "provenance": []
    },
    "kernelspec": {
      "name": "python3",
      "display_name": "Python 3"
    },
    "language_info": {
      "name": "python"
    }
  },
  "cells": [
    {
      "cell_type": "markdown",
      "source": [
        "# Trabajo con fechas"
      ],
      "metadata": {
        "id": "bJf6MMrYH2XS"
      }
    },
    {
      "cell_type": "code",
      "execution_count": null,
      "metadata": {
        "id": "a9IPCLSRGu0O"
      },
      "outputs": [],
      "source": [
        "import pandas as pd\n",
        "import numpy as np\n",
        "import datetime\n",
        "\n",
        "from datetime import date, datetime, time, timezone\n",
        "\n",
        "datetime(2021, 7, 7, 0, 0)"
      ]
    },
    {
      "cell_type": "code",
      "source": [
        "datetime(2021, 7, 7, 15, 50)"
      ],
      "metadata": {
        "id": "dc4z51IQHRnY"
      },
      "execution_count": null,
      "outputs": []
    },
    {
      "cell_type": "code",
      "source": [
        "d = date(2021, 7,7)\n",
        "t = time(13, 26, 10)\n",
        "datetime.combine(d, t)"
      ],
      "metadata": {
        "id": "ct5XkP9DHbov"
      },
      "execution_count": null,
      "outputs": []
    },
    {
      "cell_type": "code",
      "source": [
        "datetime.now()"
      ],
      "metadata": {
        "id": "MRid4wVWHjcQ"
      },
      "execution_count": null,
      "outputs": []
    },
    {
      "cell_type": "code",
      "source": [
        "datetime.now(timezone.utc)"
      ],
      "metadata": {
        "id": "ytLQ10HpHvCo"
      },
      "execution_count": null,
      "outputs": []
    },
    {
      "cell_type": "code",
      "source": [
        "datetime.now().date()"
      ],
      "metadata": {
        "id": "v3DdqAV0HxUu"
      },
      "execution_count": null,
      "outputs": []
    },
    {
      "cell_type": "code",
      "source": [
        "datetime.now().time()"
      ],
      "metadata": {
        "id": "Wm8r4quCH8Jd"
      },
      "execution_count": null,
      "outputs": []
    },
    {
      "cell_type": "markdown",
      "source": [
        "## Timestamp"
      ],
      "metadata": {
        "id": "KBKmvQPoIW32"
      }
    },
    {
      "cell_type": "code",
      "source": [
        "pd.Timestamp('2017, 1, 5')"
      ],
      "metadata": {
        "id": "ToVuPJaZH9QU"
      },
      "execution_count": null,
      "outputs": []
    },
    {
      "cell_type": "code",
      "source": [
        "pd.Timestamp(\"2017, 5, 3, 12:00\")"
      ],
      "metadata": {
        "id": "hdJcsLfNIB9M"
      },
      "execution_count": null,
      "outputs": []
    },
    {
      "cell_type": "code",
      "source": [
        "pd.Timestamp(\"12:00\")"
      ],
      "metadata": {
        "id": "ftnLCN6RIPA7"
      },
      "execution_count": null,
      "outputs": []
    },
    {
      "cell_type": "markdown",
      "source": [
        "## Timedelta"
      ],
      "metadata": {
        "id": "IjmbSpicIZVQ"
      }
    },
    {
      "cell_type": "code",
      "source": [
        "my_birth = datetime(1973, 7, 7)\n",
        "today = datetime.today()\n",
        "tomorrow = today + pd.Timedelta(days=1)\n",
        "\n",
        "print(tomorrow - my_birth)"
      ],
      "metadata": {
        "id": "SzQ39eOMIRxr"
      },
      "execution_count": null,
      "outputs": []
    },
    {
      "cell_type": "code",
      "source": [
        "my_birth - today"
      ],
      "metadata": {
        "id": "VzidXhZBInnr"
      },
      "execution_count": null,
      "outputs": []
    },
    {
      "cell_type": "code",
      "source": [
        "today = datetime.today()\n",
        "data = today + pd.Timedelta(hours=10)\n",
        "print(today)\n",
        "print(data)"
      ],
      "metadata": {
        "id": "BAbU27N9Iu11"
      },
      "execution_count": null,
      "outputs": []
    },
    {
      "cell_type": "markdown",
      "source": [
        "## Periods"
      ],
      "metadata": {
        "id": "i77ttIi6JKdv"
      }
    },
    {
      "cell_type": "code",
      "source": [
        "special_day = pd.Period('1973-7', freq=\"M\")\n",
        "special_day"
      ],
      "metadata": {
        "id": "eDzdzr5xJNFS"
      },
      "execution_count": null,
      "outputs": []
    },
    {
      "cell_type": "code",
      "source": [
        "special_day.start_time"
      ],
      "metadata": {
        "id": "4Csaf7TqJUJh"
      },
      "execution_count": null,
      "outputs": []
    },
    {
      "cell_type": "code",
      "source": [
        "special_day.end_time"
      ],
      "metadata": {
        "id": "-IGuLtyJJbmR"
      },
      "execution_count": null,
      "outputs": []
    },
    {
      "cell_type": "code",
      "source": [
        "n = special_day + 2\n",
        "\n",
        "print(special_day)\n",
        "print(n)"
      ],
      "metadata": {
        "id": "G9j0kr_VJeGZ"
      },
      "execution_count": null,
      "outputs": []
    },
    {
      "cell_type": "code",
      "source": [
        "n.start_time, n.end_time"
      ],
      "metadata": {
        "id": "SCaTfj7oJoWh"
      },
      "execution_count": null,
      "outputs": []
    },
    {
      "cell_type": "code",
      "source": [
        "import pandas_datareader.data as web\n",
        "\n",
        "start = datetime(1950, 1, 1)\n",
        "end = datetime(2022, 5, 21)\n",
        "wti = web.DataReader('DCOILWTICO', 'fred', start, end)\n",
        "wti.head()"
      ],
      "metadata": {
        "id": "GAHoT9AYJtPs"
      },
      "execution_count": null,
      "outputs": []
    },
    {
      "cell_type": "code",
      "source": [
        "wti.info()"
      ],
      "metadata": {
        "id": "zlYSrsFcKXMA"
      },
      "execution_count": null,
      "outputs": []
    },
    {
      "cell_type": "code",
      "source": [
        "\n",
        "wti = wti.reset_index()\n",
        "wti"
      ],
      "metadata": {
        "id": "jPCEdiyqKkUw"
      },
      "execution_count": null,
      "outputs": []
    },
    {
      "cell_type": "code",
      "source": [
        "wti.info()"
      ],
      "metadata": {
        "id": "hB5Leib7K4yy"
      },
      "execution_count": null,
      "outputs": []
    },
    {
      "cell_type": "code",
      "source": [
        "wti[\"N_DATE\"] = pd.to_datetime(wti.DATE)\n",
        "wti.N_DATE"
      ],
      "metadata": {
        "id": "FsPlWhOWLWdO"
      },
      "execution_count": null,
      "outputs": []
    },
    {
      "cell_type": "code",
      "source": [
        "wti.head()"
      ],
      "metadata": {
        "id": "OsG0MGvsLfPx"
      },
      "execution_count": null,
      "outputs": []
    },
    {
      "cell_type": "code",
      "source": [
        "df = wti.drop([\"DATE\"], axis=1)\n",
        "df.head()"
      ],
      "metadata": {
        "id": "IAzqQXJyLi_O"
      },
      "execution_count": null,
      "outputs": []
    },
    {
      "cell_type": "code",
      "source": [
        "df.set_index(\"N_DATE\", inplace=True)\n",
        "df.head()"
      ],
      "metadata": {
        "id": "vuoGoxeXLrQN"
      },
      "execution_count": null,
      "outputs": []
    },
    {
      "cell_type": "code",
      "source": [
        "df.info()"
      ],
      "metadata": {
        "id": "YxbskFH6Lz3u"
      },
      "execution_count": null,
      "outputs": []
    },
    {
      "cell_type": "code",
      "source": [
        "df[\"2016-11-04\": '2016-11-10']"
      ],
      "metadata": {
        "id": "jAfMsAxHL2Yu"
      },
      "execution_count": null,
      "outputs": []
    },
    {
      "cell_type": "markdown",
      "source": [
        "## date_range"
      ],
      "metadata": {
        "id": "yKMbDwGjMFZW"
      }
    },
    {
      "cell_type": "code",
      "source": [
        "pd.date_range(start=\"2021-01-01\", end=None, periods=5, freq=\"D\", tz=None)"
      ],
      "metadata": {
        "id": "t93yWv0NL-jF"
      },
      "execution_count": null,
      "outputs": []
    },
    {
      "cell_type": "code",
      "source": [
        "pd.date_range(start=\"2021-01-01\", end=None, periods=5, freq=\"D\", tz=\"Asia/Seoul\")"
      ],
      "metadata": {
        "id": "wUvtdD4vMPgU"
      },
      "execution_count": null,
      "outputs": []
    },
    {
      "cell_type": "code",
      "source": [
        "pd.date_range(start=\"2021-01-01\", end=None, periods=5, freq=\"M\", tz=None)"
      ],
      "metadata": {
        "id": "Q07N0jNOMhbb"
      },
      "execution_count": null,
      "outputs": []
    },
    {
      "cell_type": "code",
      "source": [
        "pd.date_range(start=\"2021-01-01\", end=None, periods=5, freq=\"Ms\", tz=None)"
      ],
      "metadata": {
        "id": "QEu2oZbRMpds"
      },
      "execution_count": null,
      "outputs": []
    },
    {
      "cell_type": "code",
      "source": [
        "pd.date_range(start=\"2020-1-1\", end=\"2020-12-31\", periods=None, freq=\"M\")"
      ],
      "metadata": {
        "id": "5fM6BdFIM4cf"
      },
      "execution_count": null,
      "outputs": []
    },
    {
      "cell_type": "code",
      "source": [
        "p_data = pd.period_range(start=\"2020-1-1\",\n",
        "                         end=\"2020-12-31\",\n",
        "                         periods=None,\n",
        "                         freq=\"M\")\n",
        "p_data"
      ],
      "metadata": {
        "id": "TInK7YURNCpz"
      },
      "execution_count": null,
      "outputs": []
    },
    {
      "cell_type": "code",
      "source": [
        "for i in p_data:\n",
        "  print(\"{0} {1}\".format(i.start_time, i.end_time))"
      ],
      "metadata": {
        "id": "-hHdIg2sNgqa"
      },
      "execution_count": null,
      "outputs": []
    },
    {
      "cell_type": "markdown",
      "source": [
        "# Rolling Window Calculations"
      ],
      "metadata": {
        "id": "gcjyG7bLOA7i"
      }
    },
    {
      "cell_type": "code",
      "source": [
        "!pip install --upgrade pandas_datareader\n",
        "!pip install yfinance"
      ],
      "metadata": {
        "id": "v6H0ho8eP2Jn"
      },
      "execution_count": null,
      "outputs": []
    },
    {
      "cell_type": "code",
      "source": [
        "import pandas_datareader.data as web\n",
        "import yfinance\n",
        "\n",
        "start = datetime(2020,1,1)\n",
        "end = datetime(2020, 12, 31)\n",
        "\n",
        "sec = yfinance.download('005930.KS',\n",
        "                        start=start,\n",
        "                        end=end)\n",
        "sec.head()"
      ],
      "metadata": {
        "id": "XskKdC69NyOS"
      },
      "execution_count": null,
      "outputs": []
    },
    {
      "cell_type": "code",
      "source": [
        "sec.info()"
      ],
      "metadata": {
        "id": "2U-TguKUOTXJ"
      },
      "execution_count": null,
      "outputs": []
    },
    {
      "cell_type": "code",
      "source": [
        "ma5 = sec[\"Adj Close\"].rolling(window=5).mean()\n",
        "ma5.head(10)"
      ],
      "metadata": {
        "id": "ecOSUXJtRdXu"
      },
      "execution_count": null,
      "outputs": []
    },
    {
      "cell_type": "code",
      "source": [
        "import matplotlib.pyplot as plt\n",
        "\n",
        "close = sec[\"Adj Close\"]\n",
        "ma5 = sec[\"Adj Close\"].rolling(window=5).mean()\n",
        "ma10 = sec[\"Adj Close\"].rolling(window=10).mean()\n",
        "ma60 = sec[\"Adj Close\"].rolling(window=60).mean()\n",
        "ma120 = sec[\"Adj Close\"].rolling(window=120).mean()\n",
        "\n",
        "plt.figure(figsize=(15,10))\n",
        "plt.plot(close, label=\"close\", linewidth=4)\n",
        "plt.plot(ma5, label=\"5 window\")\n",
        "plt.plot(ma10, label=\"10 window\")\n",
        "plt.plot(ma60, label=\"60 window\")\n",
        "plt.plot(ma120, label=\"120 window\")\n",
        "\n",
        "plt.legend()\n",
        "plt.title(\"Rolling window calculations\")\n",
        "plt.xlabel(\"Date\")\n",
        "plt.ylabel(\"close price\")"
      ],
      "metadata": {
        "id": "eO5VjWC6Rl-9"
      },
      "execution_count": null,
      "outputs": []
    },
    {
      "cell_type": "code",
      "source": [],
      "metadata": {
        "id": "_EDEdqe-SalM"
      },
      "execution_count": null,
      "outputs": []
    }
  ]
}