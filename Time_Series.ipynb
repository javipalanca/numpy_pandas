{
 "cells": [
  {
   "cell_type": "markdown",
   "metadata": {
    "id": "bJf6MMrYH2XS"
   },
   "source": [
    "# Trabajo con fechas"
   ]
  },
  {
   "cell_type": "code",
   "execution_count": null,
   "metadata": {
    "id": "a9IPCLSRGu0O"
   },
   "outputs": [],
   "source": [
    "import pandas as pd\n",
    "import numpy as np\n",
    "import datetime\n",
    "\n",
    "from datetime import date, datetime, time, timezone\n",
    "\n",
    "datetime(2021, 7, 7, 0, 0)"
   ]
  },
  {
   "cell_type": "code",
   "execution_count": null,
   "metadata": {
    "id": "dc4z51IQHRnY"
   },
   "outputs": [],
   "source": [
    "datetime(2021, 7, 7, 15, 50)"
   ]
  },
  {
   "cell_type": "code",
   "execution_count": null,
   "metadata": {
    "id": "ct5XkP9DHbov"
   },
   "outputs": [],
   "source": [
    "d = date(2021, 7,7)\n",
    "t = time(13, 26, 10)\n",
    "datetime.combine(d, t)"
   ]
  },
  {
   "cell_type": "code",
   "execution_count": null,
   "metadata": {
    "id": "MRid4wVWHjcQ"
   },
   "outputs": [],
   "source": [
    "datetime.now()"
   ]
  },
  {
   "cell_type": "code",
   "execution_count": null,
   "metadata": {
    "id": "ytLQ10HpHvCo"
   },
   "outputs": [],
   "source": [
    "datetime.now(timezone.utc)"
   ]
  },
  {
   "cell_type": "code",
   "execution_count": null,
   "metadata": {
    "id": "v3DdqAV0HxUu"
   },
   "outputs": [],
   "source": [
    "datetime.now().date()"
   ]
  },
  {
   "cell_type": "code",
   "execution_count": null,
   "metadata": {
    "id": "Wm8r4quCH8Jd"
   },
   "outputs": [],
   "source": [
    "datetime.now().time()"
   ]
  },
  {
   "cell_type": "markdown",
   "metadata": {
    "id": "KBKmvQPoIW32"
   },
   "source": [
    "## Timestamp"
   ]
  },
  {
   "cell_type": "code",
   "execution_count": null,
   "metadata": {
    "id": "ToVuPJaZH9QU"
   },
   "outputs": [],
   "source": [
    "pd.Timestamp('2017, 1, 5')"
   ]
  },
  {
   "cell_type": "code",
   "execution_count": null,
   "metadata": {
    "id": "hdJcsLfNIB9M"
   },
   "outputs": [],
   "source": [
    "pd.Timestamp(\"2017, 5, 3, 12:00\")"
   ]
  },
  {
   "cell_type": "code",
   "execution_count": null,
   "metadata": {
    "id": "ftnLCN6RIPA7"
   },
   "outputs": [],
   "source": [
    "pd.Timestamp(\"12:00\")"
   ]
  },
  {
   "cell_type": "markdown",
   "metadata": {
    "id": "IjmbSpicIZVQ"
   },
   "source": [
    "## Timedelta"
   ]
  },
  {
   "cell_type": "code",
   "execution_count": null,
   "metadata": {
    "id": "SzQ39eOMIRxr"
   },
   "outputs": [],
   "source": [
    "my_birth = datetime(1973, 7, 7)\n",
    "today = datetime.today()\n",
    "tomorrow = today + pd.Timedelta(days=1)\n",
    "\n",
    "print(tomorrow - my_birth)"
   ]
  },
  {
   "cell_type": "code",
   "execution_count": null,
   "metadata": {
    "id": "VzidXhZBInnr"
   },
   "outputs": [],
   "source": [
    "my_birth - today"
   ]
  },
  {
   "cell_type": "code",
   "execution_count": null,
   "metadata": {
    "id": "BAbU27N9Iu11"
   },
   "outputs": [],
   "source": [
    "today = datetime.today()\n",
    "data = today + pd.Timedelta(hours=10)\n",
    "print(today)\n",
    "print(data)"
   ]
  },
  {
   "cell_type": "markdown",
   "metadata": {
    "id": "i77ttIi6JKdv"
   },
   "source": [
    "## Periods"
   ]
  },
  {
   "cell_type": "code",
   "execution_count": null,
   "metadata": {
    "id": "eDzdzr5xJNFS"
   },
   "outputs": [],
   "source": [
    "special_day = pd.Period('1973-7', freq=\"M\")\n",
    "special_day"
   ]
  },
  {
   "cell_type": "code",
   "execution_count": null,
   "metadata": {
    "id": "4Csaf7TqJUJh"
   },
   "outputs": [],
   "source": [
    "special_day.start_time"
   ]
  },
  {
   "cell_type": "code",
   "execution_count": null,
   "metadata": {
    "id": "-IGuLtyJJbmR"
   },
   "outputs": [],
   "source": [
    "special_day.end_time"
   ]
  },
  {
   "cell_type": "code",
   "execution_count": null,
   "metadata": {
    "id": "G9j0kr_VJeGZ"
   },
   "outputs": [],
   "source": [
    "n = special_day + 2\n",
    "\n",
    "print(special_day)\n",
    "print(n)"
   ]
  },
  {
   "cell_type": "code",
   "execution_count": null,
   "metadata": {
    "id": "SCaTfj7oJoWh"
   },
   "outputs": [],
   "source": [
    "n.start_time, n.end_time"
   ]
  },
  {
   "cell_type": "code",
   "execution_count": null,
   "metadata": {
    "id": "GAHoT9AYJtPs"
   },
   "outputs": [],
   "source": [
    "import pandas_datareader.data as web\n",
    "\n",
    "start = datetime(1950, 1, 1)\n",
    "end = datetime(2022, 5, 21)\n",
    "wti = web.DataReader('DCOILWTICO', 'fred', start, end)\n",
    "wti.head()"
   ]
  },
  {
   "cell_type": "code",
   "execution_count": null,
   "metadata": {
    "id": "zlYSrsFcKXMA"
   },
   "outputs": [],
   "source": [
    "wti.info()"
   ]
  },
  {
   "cell_type": "code",
   "execution_count": null,
   "metadata": {
    "id": "jPCEdiyqKkUw"
   },
   "outputs": [],
   "source": [
    "\n",
    "wti = wti.reset_index()\n",
    "wti"
   ]
  },
  {
   "cell_type": "code",
   "execution_count": null,
   "metadata": {
    "id": "hB5Leib7K4yy"
   },
   "outputs": [],
   "source": [
    "wti.info()"
   ]
  },
  {
   "cell_type": "code",
   "execution_count": null,
   "metadata": {
    "id": "FsPlWhOWLWdO"
   },
   "outputs": [],
   "source": [
    "wti[\"N_DATE\"] = pd.to_datetime(wti.DATE)\n",
    "wti.N_DATE"
   ]
  },
  {
   "cell_type": "code",
   "execution_count": null,
   "metadata": {
    "id": "OsG0MGvsLfPx"
   },
   "outputs": [],
   "source": [
    "wti.head()"
   ]
  },
  {
   "cell_type": "code",
   "execution_count": null,
   "metadata": {
    "id": "IAzqQXJyLi_O"
   },
   "outputs": [],
   "source": [
    "df = wti.drop([\"DATE\"], axis=1)\n",
    "df.head()"
   ]
  },
  {
   "cell_type": "code",
   "execution_count": null,
   "metadata": {
    "id": "vuoGoxeXLrQN"
   },
   "outputs": [],
   "source": [
    "df.set_index(\"N_DATE\", inplace=True)\n",
    "df.head()"
   ]
  },
  {
   "cell_type": "code",
   "execution_count": null,
   "metadata": {
    "id": "YxbskFH6Lz3u"
   },
   "outputs": [],
   "source": [
    "df.info()"
   ]
  },
  {
   "cell_type": "code",
   "execution_count": null,
   "metadata": {
    "id": "jAfMsAxHL2Yu"
   },
   "outputs": [],
   "source": [
    "df[\"2016-11-04\": '2016-11-10']"
   ]
  },
  {
   "cell_type": "markdown",
   "metadata": {
    "id": "yKMbDwGjMFZW"
   },
   "source": [
    "## date_range"
   ]
  },
  {
   "cell_type": "code",
   "execution_count": null,
   "metadata": {
    "id": "t93yWv0NL-jF"
   },
   "outputs": [],
   "source": [
    "pd.date_range(start=\"2021-01-01\", end=None, periods=5, freq=\"D\", tz=None)"
   ]
  },
  {
   "cell_type": "code",
   "execution_count": null,
   "metadata": {
    "id": "wUvtdD4vMPgU"
   },
   "outputs": [],
   "source": [
    "pd.date_range(start=\"2021-01-01\", end=None, periods=5, freq=\"D\", tz=\"Asia/Seoul\")"
   ]
  },
  {
   "cell_type": "code",
   "execution_count": null,
   "metadata": {
    "id": "Q07N0jNOMhbb"
   },
   "outputs": [],
   "source": [
    "pd.date_range(start=\"2021-01-01\", end=None, periods=5, freq=\"M\", tz=None)"
   ]
  },
  {
   "cell_type": "code",
   "execution_count": null,
   "metadata": {
    "id": "QEu2oZbRMpds"
   },
   "outputs": [],
   "source": [
    "pd.date_range(start=\"2021-01-01\", end=None, periods=5, freq=\"Ms\", tz=None)"
   ]
  },
  {
   "cell_type": "code",
   "execution_count": null,
   "metadata": {
    "id": "5fM6BdFIM4cf"
   },
   "outputs": [],
   "source": [
    "pd.date_range(start=\"2020-1-1\", end=\"2020-12-31\", periods=None, freq=\"M\")"
   ]
  },
  {
   "cell_type": "code",
   "execution_count": null,
   "metadata": {
    "id": "TInK7YURNCpz"
   },
   "outputs": [],
   "source": [
    "p_data = pd.period_range(start=\"2020-1-1\",\n",
    "                         end=\"2020-12-31\",\n",
    "                         periods=None,\n",
    "                         freq=\"M\")\n",
    "p_data"
   ]
  },
  {
   "cell_type": "code",
   "execution_count": null,
   "metadata": {
    "id": "-hHdIg2sNgqa"
   },
   "outputs": [],
   "source": [
    "for i in p_data:\n",
    "  print(\"{0} {1}\".format(i.start_time, i.end_time))"
   ]
  },
  {
   "cell_type": "markdown",
   "metadata": {
    "id": "gcjyG7bLOA7i"
   },
   "source": [
    "# Rolling Window Calculations"
   ]
  },
  {
   "cell_type": "code",
   "execution_count": null,
   "metadata": {
    "id": "v6H0ho8eP2Jn"
   },
   "outputs": [],
   "source": [
    "!pip install --upgrade pandas_datareader\n",
    "!pip install yfinance"
   ]
  },
  {
   "cell_type": "code",
   "execution_count": null,
   "metadata": {
    "id": "XskKdC69NyOS"
   },
   "outputs": [],
   "source": [
    "import pandas_datareader.data as web\n",
    "import yfinance\n",
    "\n",
    "start = datetime(2020,1,1)\n",
    "end = datetime(2020, 12, 31)\n",
    "\n",
    "sec = yfinance.download('005930.KS',\n",
    "                        start=start,\n",
    "                        end=end)\n",
    "sec.head()"
   ]
  },
  {
   "cell_type": "code",
   "execution_count": null,
   "metadata": {
    "id": "2U-TguKUOTXJ"
   },
   "outputs": [],
   "source": [
    "sec.info()"
   ]
  },
  {
   "cell_type": "code",
   "execution_count": null,
   "metadata": {
    "id": "ecOSUXJtRdXu"
   },
   "outputs": [],
   "source": [
    "ma5 = sec[\"Adj Close\"].rolling(window=5).mean()\n",
    "ma5.head(10)"
   ]
  },
  {
   "cell_type": "code",
   "execution_count": null,
   "metadata": {
    "id": "eO5VjWC6Rl-9"
   },
   "outputs": [],
   "source": [
    "import matplotlib.pyplot as plt\n",
    "\n",
    "close = sec[\"Adj Close\"]\n",
    "ma5 = sec[\"Adj Close\"].rolling(window=5).mean()\n",
    "ma10 = sec[\"Adj Close\"].rolling(window=10).mean()\n",
    "ma60 = sec[\"Adj Close\"].rolling(window=60).mean()\n",
    "ma120 = sec[\"Adj Close\"].rolling(window=120).mean()\n",
    "\n",
    "plt.figure(figsize=(15,10))\n",
    "plt.plot(close, label=\"close\", linewidth=4)\n",
    "plt.plot(ma5, label=\"5 window\")\n",
    "plt.plot(ma10, label=\"10 window\")\n",
    "plt.plot(ma60, label=\"60 window\")\n",
    "plt.plot(ma120, label=\"120 window\")\n",
    "\n",
    "plt.legend()\n",
    "plt.title(\"Rolling window calculations\")\n",
    "plt.xlabel(\"Date\")\n",
    "plt.ylabel(\"close price\")"
   ]
  },
  {
   "cell_type": "code",
   "execution_count": null,
   "metadata": {
    "id": "_EDEdqe-SalM"
   },
   "outputs": [],
   "source": []
  }
 ],
 "metadata": {
  "colab": {
   "provenance": []
  },
  "kernelspec": {
   "display_name": "Python 3 (ipykernel)",
   "language": "python",
   "name": "python3"
  },
  "language_info": {
   "codemirror_mode": {
    "name": "ipython",
    "version": 3
   },
   "file_extension": ".py",
   "mimetype": "text/x-python",
   "name": "python",
   "nbconvert_exporter": "python",
   "pygments_lexer": "ipython3",
   "version": "3.9.7"
  }
 },
 "nbformat": 4,
 "nbformat_minor": 4
}
