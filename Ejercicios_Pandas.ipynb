{
  "nbformat": 4,
  "nbformat_minor": 0,
  "metadata": {
    "colab": {
      "provenance": []
    },
    "kernelspec": {
      "name": "python3",
      "display_name": "Python 3"
    },
    "language_info": {
      "name": "python"
    }
  },
  "cells": [
    {
      "cell_type": "markdown",
      "source": [
        "# Ejercicio\n",
        "\n",
        "Escribir programa que genere y muestre por pantalla un DataFrame con los datos de la tabla siguiente:\n",
        "\n",
        "| Mes     | Ventas | Gastos |\n",
        "| ------- | -----: | -----: |\n",
        "| Enero   |  30500 |  22000 |\n",
        "| Febrero |  35600 |  23400 |\n",
        "| Marzo   |  28300 |  18100 |\n",
        "| Abril   |  33900 |  20700 |"
      ],
      "metadata": {
        "id": "o2JMB5XOCrlW"
      }
    },
    {
      "cell_type": "markdown",
      "source": [
        "# Ejercicio\n",
        "\n",
        "Escribir una función que reciba un DataFrame con el formato del ejercicio anterior, una lista de meses, y devuelva el balance (ventas - gastos) total en los meses indicados."
      ],
      "metadata": {
        "id": "0W6Cv-2wCwxn"
      }
    },
    {
      "cell_type": "markdown",
      "source": [
        "El fichero [cotizacion.csv](https://github.com/asalber/aprendeconalf/blob/master/content/es/docencia/python/ejercicios/soluciones/pandas/cotizacion.csv) contiene las cotizaciones de las empresas del IBEX35 con las siguientes columnas: nombre (nombre de la empresa), Final (precio de la acción al cierre de bolsa), Máximo (precio máximo de la acción durante la jornada), Mínimo (precio mínimo de la acción durante la jornada), volumen (Volumen al cierre de bolsa), Efectivo (capitalización al cierre en miles de euros). Construir una función que construya un DataFrame a partir del un fichero con el formato anterior y devuelva otro DataFrame con el mínimo, el máximo y la media de dada columna."
      ],
      "metadata": {
        "id": "mVkFiJceDC7t"
      }
    },
    {
      "cell_type": "markdown",
      "source": [
        "# Ejercicio\n",
        "\n",
        "El fichero [titanic.csv](https://raw.githubusercontent.com/datasciencedojo/datasets/master/titanic.csv) contiene información sobre los pasajeros del Titanic. Escribir un programa con los siguientes requisitos:\n",
        "\n",
        "1. Generar un DataFrame con los datos del fichero.\n",
        "2. Mostrar por pantalla las dimensiones del DataFrame, el número de datos que contiene, los nombres de sus columnas y filas, los tipos de datos de las columnas, las 10 primeras filas y las 10 últimas filas.\n",
        "3. Mostrar por pantalla los datos del pasajero con identificador 148.\n",
        "3. Mostrar por pantalla las filas pares del DataFrame.\n",
        "4. Mostrar por pantalla los nombres de las personas que iban en primera clase ordenadas alfabéticamente.\n",
        "5. Mostrar por pantalla el porcentaje de personas que sobrevivieron y murieron.\n",
        "5. Mostrar por pantalla el porcentaje de personas que sobrevivieron en cada clase.\n",
        "6. Eliminar del DataFrame los pasajeros con edad desconocida.\n",
        "7. Mostrar por pantalla la edad media de las mujeres que viajaban en cada clase.\n",
        "8.  Añadir una nueva columna booleana para ver si el pasajero era menor de edad o no.\n",
        "9.  Mostrar por pantalla el porcentaje de menores y mayores de edad que sobrevivieron en cada clase.\n",
        "\n"
      ],
      "metadata": {
        "id": "bZz6vpSYDizv"
      }
    },
    {
      "cell_type": "markdown",
      "source": [
        "# Ejercicio\n",
        "\n",
        "Los ficheros [emisiones-2016.csv](https://raw.githubusercontent.com/asalber/aprendeconalf/master/content/es/docencia/python/ejercicios/soluciones/pandas/emisiones-2016.csv), [emisiones-2017.csv](https://raw.githubusercontent.com/asalber/aprendeconalf/master/content/es/docencia/python/ejercicios/soluciones/pandas/emisiones-2017.csv), [emisiones-2018.csv](https://raw.githubusercontent.com/asalber/aprendeconalf/master/content/es/docencia/python/ejercicios/soluciones/pandas/emisiones-2018.csv) y [emisiones-2019.csv](https://raw.githubusercontent.com/asalber/aprendeconalf/master/content/es/docencia/python/ejercicios/soluciones/pandas/emisiones-2019.csv), contienen datos sobre las emisiones contaminates en la ciudad de Madrid en los años 2016, 2017, 2018 y 2019 respectivamente. Escribir un programa con los siguientes requisitos:\n",
        "\n",
        "1. Generar un DataFrame con los datos de los cuatro ficheros.\n",
        "2. Filtrar las columnas del DataFrame para quedarse con las columnas ESTACION, MAGNITUD, AÑO, MES y las correspondientes a los días D01, D02, etc.\n",
        "3. Reestructurar el DataFrame para que los valores de los contaminantes de las columnas de los días aparezcan en una única columna.\n",
        "4. Añadir una columna con la fecha a partir de la concatenación del año, el mes y el día (usar el módulo `datetime`).\n",
        "5. Eliminar las filas con fechas no válidas (utilizar la función `isnat` del módulo `numpy`) y ordenar el DataFrame por estaciones contaminantes y fecha.\n",
        "6. Mostrar por pantalla las estaciones y los contaminantes disponibles en el DataFrame.\n",
        "7. Crear una función que reciba una estación, un contaminante y un rango de fechas y devuelva una serie con las emisiones del contaminante dado en la estación y rango de fechas dado.\n",
        "8. Mostrar un resumen descriptivo (mínimo, máximo, media, etc.) para cada contaminante.\n",
        "9. Mostrar un resumen descriptivo para cada contaminante por distritos.\n",
        "10. Crear una función que reciba una estación y un contaminante y devuelva un resumen descriptivo de las emisiones del contaminante indicado en la estación indicada.\n",
        "11. Crear una función que devuelva las emisiones medias mensuales de un contaminante y un año dados para todos las estaciones.\n",
        "12. Crear un función que reciba una estación de medición y devuelva un DataFrame con las medias mensuales de los distintos tipos de contaminantes.\n"
      ],
      "metadata": {
        "id": "-MRWaPBoFMOw"
      }
    },
    {
      "cell_type": "code",
      "source": [],
      "metadata": {
        "id": "2PmzvrgOGLCR"
      },
      "execution_count": null,
      "outputs": []
    }
  ]
}