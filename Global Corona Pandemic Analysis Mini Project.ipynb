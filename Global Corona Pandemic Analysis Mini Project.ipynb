{
 "cells": [
  {
   "cell_type": "markdown",
   "id": "6a501d8b-3497-48c2-822b-4e1e3bd31d1b",
   "metadata": {},
   "source": [
    "# Global Corona Pandemic Analysis Mini Project"
   ]
  },
  {
   "cell_type": "markdown",
   "id": "5f5ab227-93d8-4147-9602-3d616d0d67d7",
   "metadata": {},
   "source": [
    "En la historia de la humanidad se han producido varias situaciones pandémicas.\n",
    "\n",
    "Cada vez que aparece una nueva epidemia, la humanidad ha intentado encontrar nuevas vacunas y tratamientos. En cada caso, lo más importante ha sido realizar investigaciones epidemiológicas fiables y divulgar los resultados de forma transparente.\n",
    "\n",
    "La humanidad creó nuevas vacunas y tratamientos basándose en datos divulgados públicamente e intentó encontrar un camino hasta que se dispusiera de una alternativa.\n",
    "\n",
    "En la situación de pandemia, diversos análisis de datos, como: \n",
    "\n",
    "        ¿cuántas personas están infectadas en la actualidad?\n",
    "        ¿dónde están las regiones en las que las personas infectadas están disminuyendo actualmente? \n",
    "        ¿cuál es la edad y el entorno vital en el que el número de personas infectadas es elevado? \n",
    "        ¿el número de personas infectadas está disminuyendo debido a la eficacia de la vacuna?\n",
    "        y la visualización de datos para que la gente los entienda más fácilmente han hecho muchas contribuciones.\n",
    "        \n",
    "A través de este miniproyecto, también estamos intentando obtener estadísticas descriptivas sobre qué países tienen el mayor número de infecciones basándonos en los datos relacionados con la corona disponibles para el público.\n",
    "\n",
    "El resultado mostrará el nivel de infección acumulado en un mapa del mundo para que cualquiera pueda comprobarlo de un vistazo.\n",
    "\n",
    "Utilizamos los datos de la base de datos **Vacunaciones contra el coronavirus (COVID-19)** recogidos en tiempo real por https://ourworldindata.org/\n",
    "\n",
    "Podemos utilizar los datos necesarios para la práctica en `covid-vaccination-doses-per-capita.csv`.\n",
    "\n",
    "Como referencia, debemos entender que algunos datos están excluidos porque algunos países no revelan los datos al mundo.\n",
    "los datos al mundo, pero aún así podemos practicar con los datos proporcionados."
   ]
  },
  {
   "cell_type": "code",
   "execution_count": 9,
   "id": "92529407-d3ed-458d-b340-bbfc4625f8fe",
   "metadata": {},
   "outputs": [],
   "source": [
    "import pandas as pd\n",
    "import numpy as np\n",
    "import datetime\n",
    "import matplotlib.pyplot as plt\n",
    "from datetime import datetime, date, time, timezone"
   ]
  },
  {
   "cell_type": "code",
   "execution_count": 19,
   "id": "b0835324-7b4f-46b5-a90e-0c419f551b99",
   "metadata": {},
   "outputs": [
    {
     "data": {
      "text/html": [
       "<div>\n",
       "<style scoped>\n",
       "    .dataframe tbody tr th:only-of-type {\n",
       "        vertical-align: middle;\n",
       "    }\n",
       "\n",
       "    .dataframe tbody tr th {\n",
       "        vertical-align: top;\n",
       "    }\n",
       "\n",
       "    .dataframe thead th {\n",
       "        text-align: right;\n",
       "    }\n",
       "</style>\n",
       "<table border=\"1\" class=\"dataframe\">\n",
       "  <thead>\n",
       "    <tr style=\"text-align: right;\">\n",
       "      <th></th>\n",
       "      <th>Date</th>\n",
       "      <th>Entity</th>\n",
       "      <th>Code</th>\n",
       "      <th>total_vaccinations_per_hundred</th>\n",
       "    </tr>\n",
       "  </thead>\n",
       "  <tbody>\n",
       "    <tr>\n",
       "      <th>0</th>\n",
       "      <td>2020-01-03</td>\n",
       "      <td>Afghanistan</td>\n",
       "      <td>AFG</td>\n",
       "      <td>NaN</td>\n",
       "    </tr>\n",
       "    <tr>\n",
       "      <th>1</th>\n",
       "      <td>2020-01-04</td>\n",
       "      <td>Afghanistan</td>\n",
       "      <td>AFG</td>\n",
       "      <td>NaN</td>\n",
       "    </tr>\n",
       "    <tr>\n",
       "      <th>2</th>\n",
       "      <td>2020-01-05</td>\n",
       "      <td>Afghanistan</td>\n",
       "      <td>AFG</td>\n",
       "      <td>NaN</td>\n",
       "    </tr>\n",
       "    <tr>\n",
       "      <th>3</th>\n",
       "      <td>2020-01-06</td>\n",
       "      <td>Afghanistan</td>\n",
       "      <td>AFG</td>\n",
       "      <td>NaN</td>\n",
       "    </tr>\n",
       "    <tr>\n",
       "      <th>4</th>\n",
       "      <td>2020-01-07</td>\n",
       "      <td>Afghanistan</td>\n",
       "      <td>AFG</td>\n",
       "      <td>NaN</td>\n",
       "    </tr>\n",
       "  </tbody>\n",
       "</table>\n",
       "</div>"
      ],
      "text/plain": [
       "         Date       Entity Code  total_vaccinations_per_hundred\n",
       "0  2020-01-03  Afghanistan  AFG                             NaN\n",
       "1  2020-01-04  Afghanistan  AFG                             NaN\n",
       "2  2020-01-05  Afghanistan  AFG                             NaN\n",
       "3  2020-01-06  Afghanistan  AFG                             NaN\n",
       "4  2020-01-07  Afghanistan  AFG                             NaN"
      ]
     },
     "execution_count": 19,
     "metadata": {},
     "output_type": "execute_result"
    }
   ],
   "source": [
    "vac_df = pd.read_csv(\"covid-vaccination-doses-per-capita.csv\")\n",
    "vac_df.head()"
   ]
  },
  {
   "cell_type": "code",
   "execution_count": 21,
   "id": "8b2951de-9f26-49aa-a67f-4520fbf99661",
   "metadata": {},
   "outputs": [
    {
     "name": "stdout",
     "output_type": "stream",
     "text": [
      "<class 'pandas.core.frame.DataFrame'>\n",
      "RangeIndex: 339584 entries, 0 to 339583\n",
      "Data columns (total 4 columns):\n",
      " #   Column                          Non-Null Count   Dtype  \n",
      "---  ------                          --------------   -----  \n",
      " 0   Date                            339584 non-null  object \n",
      " 1   Entity                          339584 non-null  object \n",
      " 2   Code                            339584 non-null  object \n",
      " 3   total_vaccinations_per_hundred  78477 non-null   float64\n",
      "dtypes: float64(1), object(3)\n",
      "memory usage: 10.4+ MB\n"
     ]
    }
   ],
   "source": [
    "vac_df.info()"
   ]
  },
  {
   "cell_type": "markdown",
   "id": "ae44002c-0ffb-4a77-bf80-c583716ad5b8",
   "metadata": {},
   "source": [
    "# Paso 1\n",
    "**Convierte el índice a tipo datetime**"
   ]
  },
  {
   "cell_type": "code",
   "execution_count": null,
   "id": "73a096c5-2e70-464b-8301-ddfe5ed5aa22",
   "metadata": {},
   "outputs": [],
   "source": [
    "...\n",
    "vac_df.head()"
   ]
  },
  {
   "cell_type": "markdown",
   "id": "53dc164e-bde9-4d79-a2e4-5eb9720f0136",
   "metadata": {},
   "source": [
    "**Comprueba cuantos países hay en el dataframe**\n",
    "\n",
    "Si todo es correcto deberías obtener 255 países."
   ]
  },
  {
   "cell_type": "code",
   "execution_count": null,
   "id": "2457eeda-7c0a-47a1-9b70-5b16bb74d55e",
   "metadata": {},
   "outputs": [],
   "source": []
  },
  {
   "cell_type": "markdown",
   "id": "e6dd0c85-eeed-4627-ac4a-2a32e10d511f",
   "metadata": {},
   "source": [
    "## Paso 2\n",
    "**Crea un grupo alrededor de la columna Entity y cree un nuevo dataframe para almacenar los datos acumulados por país.**"
   ]
  },
  {
   "cell_type": "code",
   "execution_count": 22,
   "id": "72be998f-a579-48ca-bcf0-36067f252860",
   "metadata": {},
   "outputs": [],
   "source": [
    "covid_c = ..."
   ]
  },
  {
   "cell_type": "markdown",
   "id": "ed41eba9-7c8e-44e4-b6b6-05b0828397e9",
   "metadata": {},
   "source": [
    "Si ves el resultado del código siguiente, podrás comprobar que el número de filas (longitud del dataframe) del dataframe para cada clave (que en este caso será el nombre del país) es diferente. Esto significa que el estado real del suministro de datos es diferente para cada país.\n",
    "\n",
    "Recuerda que esto es representativo de una de las situaciones del mundo real."
   ]
  },
  {
   "cell_type": "code",
   "execution_count": null,
   "id": "e50c4a50-c88b-41cb-b5ec-6408810f4871",
   "metadata": {},
   "outputs": [],
   "source": [
    "for key, group in covid_c:\n",
    "    print(\"+key: \", key)\n",
    "    print(\"+number: \", len(group))\n",
    "    print(group.head())\n",
    "    print(\"\\n\")\n"
   ]
  },
  {
   "cell_type": "markdown",
   "id": "952ed3ff-deea-4808-bb56-6a949d83ef9d",
   "metadata": {},
   "source": [
    "**Guarda el total de cada grupo en un nuevo dataframe.**\n",
    "\n",
    "Crea estadísticas sobre el número acumulado de casos por 100 personas en cada país desde el momento del brote corona hasta la actualidad."
   ]
  },
  {
   "cell_type": "code",
   "execution_count": 23,
   "id": "8a9d20e1-df1d-4050-ba42-c22914a96a65",
   "metadata": {},
   "outputs": [
    {
     "data": {
      "text/html": [
       "<div>\n",
       "<style scoped>\n",
       "    .dataframe tbody tr th:only-of-type {\n",
       "        vertical-align: middle;\n",
       "    }\n",
       "\n",
       "    .dataframe tbody tr th {\n",
       "        vertical-align: top;\n",
       "    }\n",
       "\n",
       "    .dataframe thead th {\n",
       "        text-align: right;\n",
       "    }\n",
       "</style>\n",
       "<table border=\"1\" class=\"dataframe\">\n",
       "  <thead>\n",
       "    <tr style=\"text-align: right;\">\n",
       "      <th></th>\n",
       "      <th>total_vaccinations_per_hundred</th>\n",
       "    </tr>\n",
       "    <tr>\n",
       "      <th>Entity</th>\n",
       "      <th></th>\n",
       "    </tr>\n",
       "  </thead>\n",
       "  <tbody>\n",
       "    <tr>\n",
       "      <th>Afghanistan</th>\n",
       "      <td>3395.65</td>\n",
       "    </tr>\n",
       "    <tr>\n",
       "      <th>Africa</th>\n",
       "      <td>28974.53</td>\n",
       "    </tr>\n",
       "    <tr>\n",
       "      <th>Albania</th>\n",
       "      <td>13692.69</td>\n",
       "    </tr>\n",
       "    <tr>\n",
       "      <th>Algeria</th>\n",
       "      <td>664.55</td>\n",
       "    </tr>\n",
       "    <tr>\n",
       "      <th>American Samoa</th>\n",
       "      <td>0.00</td>\n",
       "    </tr>\n",
       "  </tbody>\n",
       "</table>\n",
       "</div>"
      ],
      "text/plain": [
       "                total_vaccinations_per_hundred\n",
       "Entity                                        \n",
       "Afghanistan                            3395.65\n",
       "Africa                                28974.53\n",
       "Albania                               13692.69\n",
       "Algeria                                 664.55\n",
       "American Samoa                            0.00"
      ]
     },
     "execution_count": 23,
     "metadata": {},
     "output_type": "execute_result"
    }
   ],
   "source": [
    "total_df = ...\n",
    "total_df.head()"
   ]
  },
  {
   "cell_type": "markdown",
   "id": "9f91a100-3f71-4acd-a2ad-ef347da990d8",
   "metadata": {},
   "source": [
    "## Paso 3\n",
    "Hemos aprendido y practicado la visualización de datos de gráficos para diversas estadísticas descriptivas utilizando matplotlib o seaborn.\n",
    "\n",
    "Sin embargo, en el campo de la visualización de datos, hay muchos casos de uso con representación en mapas.\n",
    "\n",
    "El resultado de este mini-proyecto es expresar la situación del coronavirus en forma de dataframes cambiando el color según el peso en el mapa del mundo."
   ]
  },
  {
   "cell_type": "markdown",
   "id": "207b160c-a058-43cc-b547-b46399cd8b7e",
   "metadata": {},
   "source": [
    "Antes de resolver el proyecto, aprenderemos a expresar datos en el mapa utilizando la biblioteca `folium`.\n",
    "\n",
    "https://python-visualization.github.io/folium/"
   ]
  },
  {
   "cell_type": "markdown",
   "id": "b13eeb9a-aa5d-423a-a5ca-9f406cc1d1b4",
   "metadata": {},
   "source": [
    "1. Instalar la librería folium"
   ]
  },
  {
   "cell_type": "code",
   "execution_count": null,
   "id": "cf0c6954-f3a3-4113-9923-807504eeb8e8",
   "metadata": {},
   "outputs": [],
   "source": [
    "!pip install folium"
   ]
  },
  {
   "cell_type": "markdown",
   "id": "78f35d84-1ab9-41ef-b92f-4beb8d266f13",
   "metadata": {},
   "source": [
    "2. Obtenga la información de coordenadas de la ubicación que desee:\n",
    " \n",
    "    * Ve a https://www.google.com/maps\n",
    "    * Busca la ubicación que desees en el mapa o muévela arrastrando el ratón.\n",
    "    * Haz clic con el botón derecho del ratón en la ubicación de la que quieras obtener información precisa sobre la latitud y la longitud.\n",
    "    * Al hacer clic en la información de coordenadas, la información se copia automáticamente en el portapapeles"
   ]
  },
  {
   "cell_type": "markdown",
   "id": "c2a8bd32-e153-4098-911c-3f26fb3b040b",
   "metadata": {},
   "source": [
    "3. Crea un mapa"
   ]
  },
  {
   "cell_type": "code",
   "execution_count": null,
   "id": "e1e597b3-6c98-4620-9576-1d5816a02888",
   "metadata": {},
   "outputs": [],
   "source": [
    "import folium\n",
    "\n",
    "map = folium.Map(location=[39.47935451253497, -0.33859413702953073],\n",
    "                 zoom_start=18)\n",
    "\n",
    "map"
   ]
  },
  {
   "cell_type": "markdown",
   "id": "d0ec4821-b84c-4428-8e6f-ba6d952d8ae0",
   "metadata": {},
   "source": [
    "4) Aplica un estilo al mapa:\n",
    " \n",
    "    * tamenterrain\n",
    "    * stamentoner\n",
    "    * stamenwatercolor\n",
    "    * cartodbpositron\n",
    "    * cartodbdark_matter\n",
    "    * openstreetmap\n",
    " "
   ]
  },
  {
   "cell_type": "code",
   "execution_count": null,
   "id": "6f162dbb-75e2-42ac-883f-15f07c85ce0a",
   "metadata": {},
   "outputs": [],
   "source": [
    "map = folium.Map(location=[39.47935451253497, -0.33859413702953073],\n",
    "                 zoom_start=18,\n",
    "                tiles=\"stamenwatercolor\")\n",
    "\n",
    "map"
   ]
  },
  {
   "cell_type": "markdown",
   "id": "ca7d35a0-f101-4280-8e6b-593251c47907",
   "metadata": {},
   "source": [
    "5. Cómo mostrar iconos de marcador e información en lugares específicos"
   ]
  },
  {
   "cell_type": "code",
   "execution_count": null,
   "id": "ce3b23df-97f5-47f6-a70d-ebf685cd271b",
   "metadata": {},
   "outputs": [],
   "source": [
    "marker_map = folium.Map(location=[45.372, -121.6972], zoom_start=12, tiles=\"Stamen Terrain\")\n",
    "\n",
    "folium.Marker(\n",
    "    location=[45.3288, -121.6625],\n",
    "    popup=\"Mt. Hood Meadows\",\n",
    "    icon=folium.Icon(icon=\"cloud\"),\n",
    ").add_to(marker_map)\n",
    "\n",
    "folium.Marker(\n",
    "    location=[45.3211, -121.7113],\n",
    "    popup=\"Timberline Lodge\",\n",
    "    icon=folium.Icon(color=\"green\"),\n",
    ").add_to(marker_map)\n",
    "\n",
    "folium.CircleMarker(\n",
    "    location=[45.3800, -121.600],\n",
    "    radius=100,\n",
    "    popup=\"circle\",\n",
    "    color=\"#3186cc\",\n",
    "    fill=True,\n",
    "    fill_color=\"#3186cc\",\n",
    ").add_to(marker_map)\n",
    "\n",
    "marker_map"
   ]
  },
  {
   "cell_type": "markdown",
   "id": "80511894-950c-4902-a8f5-0cd94889a783",
   "metadata": {},
   "source": [
    "6. Cómo mostrar un diagrama coroplético en el mapa\n",
    "\n",
    "Es un método para visualizar datos mediante el coloreado del área delimitada por unos límites en un mapa, como por ejemplo fronteras o límites administrativos.\n",
    "\n",
    "La intensidad de color aumenta y se hace más oscura conforme aumenta el valor de la información a representar."
   ]
  },
  {
   "cell_type": "code",
   "execution_count": null,
   "id": "2279951d-f403-46e4-bebb-a0a81fcb7216",
   "metadata": {},
   "outputs": [],
   "source": [
    "import pandas as pd\n",
    "import folium\n",
    "\n",
    "url = \"https://raw.githubusercontent.com/python-visualization/folium/master/examples/data\"\n",
    "\n",
    "state_geo = f\"{url}/us-states.json\"\n",
    "state_unemployment = f\"{url}/US_Unemployment_Oct2012.csv\"\n",
    "state_data = pd.read_csv(state_unemployment)\n",
    "\n",
    "m = folium.Map(location=[48, -102], zoom_start=3)\n",
    "\n",
    "folium.Choropleth(\n",
    "    geo_data=state_geo,\n",
    "    name=\"choropleth\",\n",
    "    data=state_data,\n",
    "    columns=[\"State\", \"Unemployment\"],\n",
    "    key_on=\"feature.id\",\n",
    "    fill_color=\"YlGn\",\n",
    "    fill_opacity=0.7,\n",
    "    line_opacity=0.2,\n",
    "    legend_name=\"Unemployment Rate (%)\",\n",
    ").add_to(m)\n",
    "\n",
    "folium.LayerControl().add_to(m)\n",
    "\n",
    "m"
   ]
  },
  {
   "cell_type": "markdown",
   "id": "49863e52-e292-4406-b147-78dd712a5230",
   "metadata": {},
   "source": [
    "## Paso 4\n",
    "Podemos visualizar el dataframe ya procesado del número acumulado de casos confirmados por 100 personas en cada país aplicando el método de visualización al mapa aprendido en el paso 3.\n",
    "\n",
    "https://ourworldindata.org/covid-vaccination-global-projections"
   ]
  },
  {
   "cell_type": "code",
   "execution_count": 2,
   "id": "7c5b4752-a207-4f33-b1b0-bad38de53066",
   "metadata": {},
   "outputs": [
    {
     "ename": "NameError",
     "evalue": "name 'total_df' is not defined",
     "output_type": "error",
     "traceback": [
      "\u001b[0;31m---------------------------------------------------------------------------\u001b[0m",
      "\u001b[0;31mNameError\u001b[0m                                 Traceback (most recent call last)",
      "\u001b[0;32m/var/folders/45/w_76kqgx3tx31bndv5hyl8400000gn/T/ipykernel_4879/2305274292.py\u001b[0m in \u001b[0;36m<module>\u001b[0;34m\u001b[0m\n\u001b[1;32m     19\u001b[0m \u001b[0;34m\u001b[0m\u001b[0m\n\u001b[1;32m     20\u001b[0m folium.Choropleth(geo_data=json_data,\n\u001b[0;32m---> 21\u001b[0;31m                   \u001b[0mdata\u001b[0m\u001b[0;34m=\u001b[0m\u001b[0mtotal_df\u001b[0m\u001b[0;34m,\u001b[0m\u001b[0;34m\u001b[0m\u001b[0;34m\u001b[0m\u001b[0m\n\u001b[0m\u001b[1;32m     22\u001b[0m                   \u001b[0mcolumns\u001b[0m\u001b[0;34m=\u001b[0m\u001b[0;34m(\u001b[0m\u001b[0mdf\u001b[0m\u001b[0;34m.\u001b[0m\u001b[0mindex\u001b[0m\u001b[0;34m,\u001b[0m \u001b[0;34m\"total_vaccinations_per_hundred\"\u001b[0m\u001b[0;34m)\u001b[0m\u001b[0;34m,\u001b[0m\u001b[0;34m\u001b[0m\u001b[0;34m\u001b[0m\u001b[0m\n\u001b[1;32m     23\u001b[0m                   \u001b[0mkey_on\u001b[0m\u001b[0;34m=\u001b[0m\u001b[0;34m\"properties.ADMIN\"\u001b[0m\u001b[0;34m,\u001b[0m\u001b[0;34m\u001b[0m\u001b[0;34m\u001b[0m\u001b[0m\n",
      "\u001b[0;31mNameError\u001b[0m: name 'total_df' is not defined"
     ]
    }
   ],
   "source": [
    "import folium\n",
    "import json\n",
    "import urllib.request\n",
    "\n",
    "center = [35.762887375145795, 84.08313219586536]\n",
    "\n",
    "m = folium.Map(location=center, zoom_start=2,\n",
    "               max_bounds=True,\n",
    "               min_zoom=1,\n",
    "               min_lat=-84, max_lat=84,\n",
    "               min_lon=-175, max_lon=187,\n",
    "              )\n",
    "\n",
    "geo_path = \"https://raw.githubusercontent.com/javipalanca/numpy_pandas/main/World_Countries_Generalized.geojson\"\n",
    "\n",
    "\n",
    "with urllib.request.urlopen(geo_path) as url:\n",
    "    json_data = json.load(url)\n",
    "\n",
    "folium.Choropleth(geo_data=json_data,\n",
    "                  data=total_df,\n",
    "                  columns=(df.index, \"total_vaccinations_per_hundred\"),\n",
    "                  key_on=\"properties.ADMIN\",\n",
    "                  fill_color=\"RdYlGn\",\n",
    "                  fill_opacity=0.7,\n",
    "                  line_opacity=0.5,\n",
    "                 ).add_to(m)\n",
    "\n",
    "folium.LayerControl().add_to(m)\n",
    "\n",
    "m"
   ]
  },
  {
   "cell_type": "code",
   "execution_count": null,
   "id": "825b6181-436a-4562-bf26-525bca397696",
   "metadata": {},
   "outputs": [],
   "source": []
  }
 ],
 "metadata": {
  "kernelspec": {
   "display_name": "Python 3 (ipykernel)",
   "language": "python",
   "name": "python3"
  },
  "language_info": {
   "codemirror_mode": {
    "name": "ipython",
    "version": 3
   },
   "file_extension": ".py",
   "mimetype": "text/x-python",
   "name": "python",
   "nbconvert_exporter": "python",
   "pygments_lexer": "ipython3",
   "version": "3.9.7"
  }
 },
 "nbformat": 4,
 "nbformat_minor": 5
}
